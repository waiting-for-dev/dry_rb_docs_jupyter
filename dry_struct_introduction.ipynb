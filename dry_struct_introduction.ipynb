{
 "cells": [
  {
   "cell_type": "code",
   "execution_count": null,
   "metadata": {},
   "outputs": [],
   "source": [
    "require 'dry/struct'"
   ]
  },
  {
   "cell_type": "markdown",
   "metadata": {},
   "source": [
    "# Introduction"
   ]
  },
  {
   "cell_type": "markdown",
   "metadata": {},
   "source": [
    "`dry-struct` is a gem built on top of `dry-types` which provides virtus-like DSL for defining typed struct classes."
   ]
  },
  {
   "cell_type": "markdown",
   "metadata": {},
   "source": [
    "## Basic Usage"
   ]
  },
  {
   "cell_type": "markdown",
   "metadata": {},
   "source": [
    "You can define struct objects which will have readers for specified attributes using a simple dsl:"
   ]
  },
  {
   "cell_type": "code",
   "execution_count": null,
   "metadata": {},
   "outputs": [],
   "source": [
    "module Types\n",
    "  include Dry.Types()\n",
    "end\n",
    "\n",
    "class User < Dry::Struct\n",
    "  attribute :name, Types::String.optional\n",
    "  attribute :age, Types::Coercible::Integer\n",
    "end\n",
    "\n",
    "user = User.new(name: nil, age: '21')"
   ]
  },
  {
   "cell_type": "code",
   "execution_count": null,
   "metadata": {},
   "outputs": [],
   "source": [
    "user.name"
   ]
  },
  {
   "cell_type": "code",
   "execution_count": null,
   "metadata": {},
   "outputs": [],
   "source": [
    "user.age"
   ]
  },
  {
   "cell_type": "markdown",
   "metadata": {},
   "source": [
    "## Value"
   ]
  },
  {
   "cell_type": "markdown",
   "metadata": {},
   "source": [
    "You can define value objects which will behave like structs but will be deeply frozen:"
   ]
  },
  {
   "cell_type": "code",
   "execution_count": null,
   "metadata": {},
   "outputs": [],
   "source": [
    "class Location < Dry::Struct::Value\n",
    "  attribute :lat, Types::Float\n",
    "  attribute :lng, Types::Float\n",
    "end\n",
    "\n",
    "loc1 = Location.new(lat: 1.23, lng: 4.56)\n",
    "loc2 = Location.new(lat: 1.23, lng: 4.56)\n",
    "\n",
    "loc1.frozen?"
   ]
  },
  {
   "cell_type": "code",
   "execution_count": null,
   "metadata": {},
   "outputs": [],
   "source": [
    "loc2.frozen?"
   ]
  },
  {
   "cell_type": "code",
   "execution_count": null,
   "metadata": {},
   "outputs": [],
   "source": [
    "loc1 == loc2"
   ]
  },
  {
   "cell_type": "markdown",
   "metadata": {},
   "source": [
    "## Hash Schemas"
   ]
  },
  {
   "cell_type": "markdown",
   "metadata": {},
   "source": [
    "`Dry::Struct` out of the box uses [hash schemas](https://dry-rb.org/gems/dry-types/1.0/hash-schemas) from dry-types for processing input hashes. `with_type_transform` and `with_key_transform` are exposed as `transform_types` and `transform_keys`:"
   ]
  },
  {
   "cell_type": "code",
   "execution_count": null,
   "metadata": {},
   "outputs": [],
   "source": [
    "class User2 < Dry::Struct\n",
    "  transform_keys(&:to_sym)\n",
    "\n",
    "  attribute :name, Types::String.optional\n",
    "  attribute :age, Types::Coercible::Integer\n",
    "end\n",
    "\n",
    "User2.new('name' => 'Jane', 'age' => '21')"
   ]
  },
  {
   "cell_type": "markdown",
   "metadata": {},
   "source": [
    "This plays nicely with inheritance, you can define a base struct for symbolizing input and then reuse it:"
   ]
  },
  {
   "cell_type": "code",
   "execution_count": null,
   "metadata": {},
   "outputs": [],
   "source": [
    "class SymbolizeStruct < Dry::Struct\n",
    "  transform_keys(&:to_sym)\n",
    "end\n",
    "\n",
    "class User3 < SymbolizeStruct\n",
    "  attribute :name, Types::String.optional\n",
    "  attribute :age, Types::Coercible::Integer\n",
    "end"
   ]
  },
  {
   "cell_type": "markdown",
   "metadata": {},
   "source": [
    "## Validating data with dry-struct"
   ]
  },
  {
   "cell_type": "markdown",
   "metadata": {},
   "source": [
    "Please don't. Structs are meant to work with valid input, it cannot generate error messages good enough for displaying them for a user etc. Use `dry-validation` for validating incoming data and then pass its output to structs."
   ]
  },
  {
   "cell_type": "markdown",
   "metadata": {},
   "source": [
    "## Differences between dry-struct and virtus"
   ]
  },
  {
   "cell_type": "markdown",
   "metadata": {},
   "source": [
    "`dry-struct` look somewhat similar to Virtus but there are few significant differences:\n",
    "\n",
    "- Structs don't provide attribute writers and are meant to be used as \"data objects\" exclusively\n",
    "- Handling of attribute values is provided by standalone type objects from `dry-types`, which gives you way more powerful features\n",
    "- Handling of attribute hashes is provided by standalone hash schemas from `dry-types`, which means there are different types of constructors in `dry-struct`\n",
    "- Structs are not designed as swiss-army knifes, specific constructor types are used depending on the use case\n",
    "- Struct classes quack like `dry-types`, which means you can use them in hash schemas, as array members or sum them"
   ]
  }
 ],
 "metadata": {
  "kernelspec": {
   "display_name": "Ruby 2.5.1",
   "language": "ruby",
   "name": "ruby"
  },
  "language_info": {
   "file_extension": ".rb",
   "mimetype": "application/x-ruby",
   "name": "ruby",
   "version": "2.5.1"
  }
 },
 "nbformat": 4,
 "nbformat_minor": 2
}
